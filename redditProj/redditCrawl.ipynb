{
 "cells": [
  {
   "cell_type": "code",
   "execution_count": 1,
   "metadata": {
    "collapsed": true
   },
   "outputs": [],
   "source": [
    "import urllib\n",
    "from urllib.request import urlopen\n",
    "import json\n",
    "from pandas import Series, DataFrame\n",
    "import time"
   ]
  },
  {
   "cell_type": "code",
   "execution_count": 2,
   "metadata": {
    "collapsed": false
   },
   "outputs": [],
   "source": [
    "hdr = {'User-Agent': 'osx:r/relationships.single.result:v1.0 (by /u/<PutYourUserNameHere>)'}\n",
    "url =  'https://www.reddit.com/r/relationships/top/.json?sort=top&t=all&limit=1'\n",
    "req = urllib.request.Request(url,headers=hdr)\n",
    "response = urllib.request.urlopen(req)\n",
    "text_data = response.read().decode('utf-8')\n",
    "#print(text_data)\n",
    "#print(isinstance(text_data,str))\n",
    "data = json.loads(text_data)\n",
    "data_all = data['data']['children']\n"
   ]
  },
  {
   "cell_type": "code",
   "execution_count": 4,
   "metadata": {
    "collapsed": false
   },
   "outputs": [
    {
     "name": "stdout",
     "output_type": "stream",
     "text": [
      "t3_3hw1jh\n"
     ]
    }
   ],
   "source": [
    "last = data_all[-1]['data']['name']\n",
    "\n",
    "print(last)"
   ]
  },
  {
   "cell_type": "code",
   "execution_count": 5,
   "metadata": {
    "collapsed": false
   },
   "outputs": [],
   "source": [
    "while (len(data_all) <= 500):\n",
    "    time.sleep(2)\n",
    "    last = data_all[-1]['data']['name']\n",
    "    url = 'https://www.reddit.com/r/relationships/top/.json?sort=top&t=all&limit=100&after=%s' % last\n",
    "    req = urllib.request.Request(url, headers=hdr)\n",
    "    text_data = urllib.request.urlopen(req).read().decode('utf-8')\n",
    "    data = json.loads(text_data)\n",
    "    data_all += data['data']['children']"
   ]
  },
  {
   "cell_type": "code",
   "execution_count": 6,
   "metadata": {
    "collapsed": true
   },
   "outputs": [],
   "source": [
    "article_title = []\n",
    "article_flairs = []\n",
    "article_date = []\n",
    "article_comments = []\n",
    "article_score = []\n",
    "\n",
    "for i in range(0, len(data_all)):\n",
    "    article_title.append(data_all[i]['data']['title'])\n",
    "    article_flairs.append(data_all[i]['data']['link_flair_text'])\n",
    "    article_date.append(data_all[i]['data']['created_utc'])\n",
    "    article_comments.append(data_all[i]['data']['num_comments'])\n",
    "    article_score.append(data_all[i]['data']['score'])\n",
    "    \n",
    "\n"
   ]
  },
  {
   "cell_type": "code",
   "execution_count": 7,
   "metadata": {
    "collapsed": false,
    "scrolled": true
   },
   "outputs": [],
   "source": [
    "import numpy as np\n",
    "from pandas import Series, DataFrame\n",
    "import pandas as pd\n",
    "rel_df = DataFrame({'Date': article_date,\n",
    "                    'Title': article_title,\n",
    "                    'Flair': article_flairs,\n",
    "                    'Comments': article_comments,\n",
    "                    'Score': article_score})\n",
    "rel_df = rel_df[['Date', 'Title', 'Flair', 'Comments', 'Score']]    "
   ]
  },
  {
   "cell_type": "code",
   "execution_count": 8,
   "metadata": {
    "collapsed": false
   },
   "outputs": [
    {
     "data": {
      "text/html": [
       "<div>\n",
       "<table border=\"1\" class=\"dataframe\">\n",
       "  <thead>\n",
       "    <tr style=\"text-align: right;\">\n",
       "      <th></th>\n",
       "      <th>Date</th>\n",
       "      <th>Title</th>\n",
       "      <th>Flair</th>\n",
       "      <th>Comments</th>\n",
       "      <th>Score</th>\n",
       "    </tr>\n",
       "  </thead>\n",
       "  <tbody>\n",
       "    <tr>\n",
       "      <th>0</th>\n",
       "      <td>1440187622</td>\n",
       "      <td>[UPDATE]My [26 F] with my husband [29 M] 1 yea...</td>\n",
       "      <td>Updates</td>\n",
       "      <td>911</td>\n",
       "      <td>8352</td>\n",
       "    </tr>\n",
       "    <tr>\n",
       "      <th>1</th>\n",
       "      <td>1438962646</td>\n",
       "      <td>Update: I [30 F] am sitting in the back of my ...</td>\n",
       "      <td>◉ Locked Post ◉</td>\n",
       "      <td>622</td>\n",
       "      <td>6268</td>\n",
       "    </tr>\n",
       "    <tr>\n",
       "      <th>2</th>\n",
       "      <td>1435026034</td>\n",
       "      <td>UPDATE: My fiancee (24F) has no bridesmaids an...</td>\n",
       "      <td>Updates</td>\n",
       "      <td>616</td>\n",
       "      <td>5594</td>\n",
       "    </tr>\n",
       "    <tr>\n",
       "      <th>3</th>\n",
       "      <td>1438393090</td>\n",
       "      <td>My [42M] daughter [17F] has been bullying a gi...</td>\n",
       "      <td>◉ Locked Post ◉</td>\n",
       "      <td>961</td>\n",
       "      <td>5494</td>\n",
       "    </tr>\n",
       "    <tr>\n",
       "      <th>4</th>\n",
       "      <td>1448797070</td>\n",
       "      <td>[Update] Really weird things are happening to ...</td>\n",
       "      <td>Updates</td>\n",
       "      <td>501</td>\n",
       "      <td>5402</td>\n",
       "    </tr>\n",
       "  </tbody>\n",
       "</table>\n",
       "</div>"
      ],
      "text/plain": [
       "         Date                                              Title  \\\n",
       "0  1440187622  [UPDATE]My [26 F] with my husband [29 M] 1 yea...   \n",
       "1  1438962646  Update: I [30 F] am sitting in the back of my ...   \n",
       "2  1435026034  UPDATE: My fiancee (24F) has no bridesmaids an...   \n",
       "3  1438393090  My [42M] daughter [17F] has been bullying a gi...   \n",
       "4  1448797070  [Update] Really weird things are happening to ...   \n",
       "\n",
       "             Flair  Comments  Score  \n",
       "0          Updates       911   8352  \n",
       "1  ◉ Locked Post ◉       622   6268  \n",
       "2          Updates       616   5594  \n",
       "3  ◉ Locked Post ◉       961   5494  \n",
       "4          Updates       501   5402  "
      ]
     },
     "execution_count": 8,
     "metadata": {},
     "output_type": "execute_result"
    }
   ],
   "source": [
    "rel_df[:5]"
   ]
  },
  {
   "cell_type": "code",
   "execution_count": null,
   "metadata": {
    "collapsed": true
   },
   "outputs": [],
   "source": []
  }
 ],
 "metadata": {
  "kernelspec": {
   "display_name": "Python 3",
   "language": "python",
   "name": "python3"
  },
  "language_info": {
   "codemirror_mode": {
    "name": "ipython",
    "version": 3
   },
   "file_extension": ".py",
   "mimetype": "text/x-python",
   "name": "python",
   "nbconvert_exporter": "python",
   "pygments_lexer": "ipython3",
   "version": "3.5.1"
  }
 },
 "nbformat": 4,
 "nbformat_minor": 0
}
